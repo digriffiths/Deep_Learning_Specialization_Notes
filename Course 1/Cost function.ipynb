{
 "cells": [
  {
   "cell_type": "markdown",
   "metadata": {},
   "source": [
    "# Cost function\n",
    "\n",
    "This script defines and calculates the binary cross entropy loss and the overall cost function.\n",
    "\n",
    "Cost function - a function that measures the \"cost\" or \"error\" between the actual values and predicted values in a machine learning model. It quantifies how well the model is performing by comparing its predictions to the true values. In the context of binary classification, a common cost function is the binary cross entropy loss, which penalizes the model more as the predicted probability diverges from the actual class label.\n"
   ]
  },
  {
   "cell_type": "code",
   "execution_count": 1,
   "metadata": {},
   "outputs": [],
   "source": [
    "#loss function\n",
    "\n",
    "import numpy as np\n",
    "\n",
    "def L(y, y_hat):\n",
    "    epsilon = 1e-9\n",
    "    return - (y * np.log(y_hat + epsilon) + (1 - y) * np.log(1 - y_hat + epsilon))\n"
   ]
  },
  {
   "cell_type": "code",
   "execution_count": 2,
   "metadata": {},
   "outputs": [],
   "source": [
    "def J(y, y_hat):\n",
    "    return L(y, y_hat).mean()"
   ]
  },
  {
   "cell_type": "code",
   "execution_count": 3,
   "metadata": {},
   "outputs": [
    {
     "name": "stdout",
     "output_type": "stream",
     "text": [
      "Cost: 0.16425203230546248\n"
     ]
    }
   ],
   "source": [
    "# Example of good result:\n",
    "# Assuming some dummy data and predictions\n",
    "y = np.array([0, 1, 1, 0])\n",
    "y_hat = np.array([0.1, 0.9, 0.8, 0.2])\n",
    "\n",
    "# Calculate the cost\n",
    "cost = J(y, y_hat)\n",
    "print(\"Cost:\", cost)"
   ]
  },
  {
   "cell_type": "code",
   "execution_count": 4,
   "metadata": {},
   "outputs": [
    {
     "name": "stdout",
     "output_type": "stream",
     "text": [
      "Cost: 1.5080716301987258\n"
     ]
    }
   ],
   "source": [
    "# Example of bad result:\n",
    "# Assuming some dummy data and predictions\n",
    "y = np.array([0, 1, 1, 0])\n",
    "y_hat = np.array([0.9, 0.3, 0.2, 0.6])\n",
    "\n",
    "# Calculate the cost\n",
    "cost = J(y, y_hat)\n",
    "print(\"Cost:\", cost)"
   ]
  }
 ],
 "metadata": {
  "kernelspec": {
   "display_name": ".venv",
   "language": "python",
   "name": "python3"
  },
  "language_info": {
   "codemirror_mode": {
    "name": "ipython",
    "version": 3
   },
   "file_extension": ".py",
   "mimetype": "text/x-python",
   "name": "python",
   "nbconvert_exporter": "python",
   "pygments_lexer": "ipython3",
   "version": "3.12.1"
  }
 },
 "nbformat": 4,
 "nbformat_minor": 2
}
