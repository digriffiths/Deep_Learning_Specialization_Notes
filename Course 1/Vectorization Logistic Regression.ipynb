{
 "cells": [
  {
   "cell_type": "markdown",
   "metadata": {},
   "source": [
    "## Vectorization Logistic Regression\n"
   ]
  },
  {
   "cell_type": "markdown",
   "metadata": {},
   "source": [
    "z_1 = wTx(1) + b\n",
    "a_1 = sigma(z(1))\n",
    "\n",
    "z_2 = wTx(2) + b\n",
    "a_2 = sigma(z(2))\n",
    "\n",
    "z_3 = wTx(3) + b\n",
    "a_3 = sigma(z(3))\n"
   ]
  },
  {
   "cell_type": "markdown",
   "metadata": {},
   "source": [
    "to compute the loss function for each of the above, you don't need a for loop, you can use vectorization by making a vector for w and a vector for b. But if you use np.dot(wT, x) + b python creates a vector for b for you.\n"
   ]
  },
  {
   "cell_type": "code",
   "execution_count": 1,
   "metadata": {},
   "outputs": [
    {
     "name": "stdout",
     "output_type": "stream",
     "text": [
      "Computed values of z: [0.4 1.9 3.4]\n",
      "Activation values (a): [0.59868766 0.86989153 0.96770454]\n"
     ]
    }
   ],
   "source": [
    "import numpy as np\n",
    "\n",
    "# Example weights and bias\n",
    "w = np.array([0.2, 0.8, -0.5])  # Example weight vector\n",
    "b = 0.1  # Example bias\n",
    "\n",
    "# Example feature set\n",
    "X = np.array([\n",
    "    [1, 2, 3],\n",
    "    [4, 5, 6],\n",
    "    [7, 8, 9]\n",
    "])\n",
    "\n",
    "# Vectorized computation of z = w^T * X + b\n",
    "z = np.dot(w, X.T) + b\n",
    "\n",
    "# Sigmoid function\n",
    "def sigma(z):\n",
    "    return 1 / (1 + np.exp(-z))\n",
    "\n",
    "# Applying the sigmoid function to each element in vector z\n",
    "a = sigma(z)\n",
    "\n",
    "print(\"Computed values of z:\", z)\n",
    "print(\"Activation values (a):\", a)"
   ]
  }
 ],
 "metadata": {
  "kernelspec": {
   "display_name": ".venv",
   "language": "python",
   "name": "python3"
  },
  "language_info": {
   "codemirror_mode": {
    "name": "ipython",
    "version": 3
   },
   "file_extension": ".py",
   "mimetype": "text/x-python",
   "name": "python",
   "nbconvert_exporter": "python",
   "pygments_lexer": "ipython3",
   "version": "3.12.3"
  }
 },
 "nbformat": 4,
 "nbformat_minor": 2
}
