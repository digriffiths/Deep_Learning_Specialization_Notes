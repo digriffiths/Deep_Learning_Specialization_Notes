{
 "cells": [
  {
   "cell_type": "markdown",
   "metadata": {},
   "source": [
    "Real esatate / Online Advertising - standard NN\n",
    "Image - Convolution neural networks\n",
    "Audio - Recurrent Neural networks - sequence data\n",
    "Language - Recurrent Neural networks - sequence data\n",
    "Autonomous driving - custon NN\n"
   ]
  },
  {
   "cell_type": "markdown",
   "metadata": {},
   "source": [
    "Structured data e.g. integers\n",
    "Unstructured e.g. raw audio/ images\n"
   ]
  }
 ],
 "metadata": {
  "kernelspec": {
   "display_name": ".venv",
   "language": "python",
   "name": "python3"
  },
  "language_info": {
   "codemirror_mode": {
    "name": "ipython",
    "version": 3
   },
   "file_extension": ".py",
   "mimetype": "text/x-python",
   "name": "python",
   "nbconvert_exporter": "python",
   "pygments_lexer": "ipython3",
   "version": "3.12.1"
  }
 },
 "nbformat": 4,
 "nbformat_minor": 2
}
